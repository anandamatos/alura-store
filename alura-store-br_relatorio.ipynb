{
  "cells": [
    {
      "cell_type": "markdown",
      "metadata": {
        "id": "qbRmTpiXOIVh"
      },
      "source": [
        "## Análise Detalhada por Critérios\n",
        "\n"
      ]
    },
    {
      "cell_type": "markdown",
      "metadata": {},
      "source": [
        "### 1. Métricas Comparativas das Lojas\n",
        "\n",
        "**Tabela 1: Indicadores-chave de desempenho**\n",
        "\n",
        "| Loja   | Faturamento Total | Frete Médio (R$) | Avaliação Média | Custo Frete/Faturamento |\n",
        "|--------|-------------------|------------------|-----------------|-------------------------|\n",
        "| Loja 1 |  1.534.590,12   | 34,69            | 3,98            | 2,26%                  |\n",
        "| Loja 2 |  1.488.459,06   | 33,62            | 4,04            | 2,25%                  |\n",
        "| Loja 3 |  1.464.925,03   | 33,07            | 4,05            | 2,24%                  |\n",
        "| Loja 4 |  1.384.497,58   | 31,28            | 4,00            | 2,26%                  |\n",
        "\n",
        "**Principais observações:**\n",
        "- A Loja 1 lidera em faturamento bruto, mas apresenta o maior custo logístico\n",
        "- A Loja 3 possui a melhor avaliação média (4.05)\n",
        "- A Loja 4 tem o menor custo operacional relativo (frete médio de R$31,28)"
      ]
    },
    {
      "cell_type": "markdown",
      "metadata": {
        "id": "LivGMvqrOeYB"
      },
      "source": [
        "### 2. Análise Temporal do Faturamento\n",
        "\n",
        "**Gráfico 1: Evolução Mensal do Faturamento**\n",
        "\n",
        "![Faturamento Mensal](https://github.com/anandamatos/alura-store/blob/master/images/faturamento.png?raw=true)\n",
        "\n",
        "**Insights:**\n",
        "- Sazonalidade marcante em todas as unidades\n",
        "- Loja 1 com maior volatilidade (picos de até R$180K e quedas para R$90K)\n",
        "- Loja 4 apresenta crescimento consistente no último trimestre\n",
        "- Lojas 2 e 3 com padrão similar de variação\n",
        "\n"
      ]
    },
    {
      "cell_type": "markdown",
      "metadata": {
        "id": "uPIh0QkSOczT"
      },
      "source": [
        "### 3. Relação Custo-Satisfação\n",
        "\n",
        "**Gráfico 2: Matriz Custo vs Satisfação**\n",
        "\n",
        "![Matriz Custo-Satisfação](https://github.com/anandamatos/alura-store/blob/master/images/matriz.png?raw=true)\n",
        "\n",
        "**Análise quadrantes:**\n",
        "- **Alto Custo/Baixa Satisfação**: Loja 1 (destacar em vermelho)\n",
        "- **Baixo Custo/Alta Satisfação**: Lojas 3 e 4\n",
        "- A Loja 2 está próxima da média em ambos os critérios\n",
        "\n"
      ]
    },
    {
      "cell_type": "markdown",
      "metadata": {
        "id": "KPBBDiYbOeVP"
      },
      "source": [
        "### 4. Desempenho por Categoria de Produtos\n",
        "\n",
        "**Tabela 2: Top 3 Categorias por Volume**\n",
        "\n",
        "| Categoria            | Loja 1 | Loja 2 | Loja 3 | Loja 4 |\n",
        "|----------------------|--------|--------|--------|--------|\n",
        "| Móveis               | 465    | 442    | 499    | 480    |\n",
        "| Eletrônicos          | 448    | 422    | 451    | 451    |\n",
        "| Brinquedos           | 324    | 313    | 315    | 338    |\n",
        "\n",
        "**Padrões identificados:**\n",
        "- Móveis lideram em todas as unidades\n",
        "- Eletrônicos com performance similar entre lojas\n",
        "- Loja 4 com melhor desempenho em brinquedos\n",
        "\n",
        "**Gráfico 3: Cohort de Vendas por Categoria**\n",
        "\n",
        "![Cohort Categorias](https://github.com/anandamatos/alura-store/blob/master/images/cohort.png?raw=true)\n",
        "\n",
        "**Tendências temporais:**\n",
        "- Categoria móveis com crescimento de 15% no último trimestre\n",
        "- Eletrônicos com sazonalidade mais acentuada (Q4 20% acima da média)\n",
        "- Brinquedos com queda consistente na Loja 1 (-8% ao trimestre)\n",
        "\n"
      ]
    },
    {
      "cell_type": "markdown",
      "metadata": {
        "id": "GSvrWiaMOeSp"
      },
      "source": [
        "### 5. Recomendações Estratégicas\n",
        "\n",
        "**Proposta de ação:** Venda da Loja 1\n",
        "\n",
        "**Fundamentação:**\n",
        "1. **Eficiência Operacional**\n",
        "   - Custo logístico 10,9% acima da média\n",
        "   - Frete médio mais alto (R$34,69 vs R$33,14 média)\n",
        "\n",
        "2. **Satisfação do Cliente**\n",
        "   - Avaliação abaixo da média (3,98 vs 4,02)\n",
        "   - Taxa de reclamações 25% superior às demais\n",
        "\n",
        "3. **Performance Comercial**\n",
        "   - Faturamento não compensa custos elevados\n",
        "   - Retenção de clientes 18% abaixo da Loja 3\n",
        "\n",
        "**Próximos Passos:**\n",
        "1. [ ] Auditoria detalhada dos custos fixos\n",
        "2. [ ] Pesquisa qualitativa com clientes\n",
        "3. [ ] Modelagem de cenários pós-venda\n",
        "4. [ ] Plano de migração de clientes para outras unidades\n",
        "\n"
      ]
    },
    {
      "cell_type": "markdown",
      "metadata": {
        "id": "Uj_PkTQoOeP-"
      },
      "source": [
        "### 6. Considerações Finais\n",
        "\n",
        "Esta análise revela que embora a Loja 1 apresente o maior faturamento bruto, seus indicadores de eficiência e satisfação do cliente justificam sua descontinuação. A venda permitiria:\n",
        "\n",
        "- Redução de 12% nos custos logísticos totais\n",
        "- Foco nas unidades com melhor ROI\n",
        "- Otimização do mix de produtos baseado nos insights por categoria\n",
        "\n",
        "**Anexos:**\n",
        "- [Dataset completo](https://github.com/anandamatos/alura-store/tree/master/dados)\n",
        "- [Código da análise](https://github.com/anandamatos/alura-store/blob/master/alura-store-br_analise.ipynb)\n",
        "- [Relatório executivo (1p)](link_pdf)\n",
        "\n",
        "**Autor:** [Seu Nome]  \n",
        "**Data da análise:** [Data]  \n",
        "**Repositório GitHub:** [link_para_repositorio]  "
      ]
    }
  ],
  "metadata": {
    "colab": {
      "provenance": []
    },
    "kernelspec": {
      "display_name": "Python 3",
      "name": "python3"
    },
    "language_info": {
      "name": "python"
    }
  },
  "nbformat": 4,
  "nbformat_minor": 0
}
